{
 "cells": [
  {
   "cell_type": "code",
   "execution_count": 1,
   "metadata": {},
   "outputs": [],
   "source": [
    "from gekko import GEKKO\n",
    "import numpy as np\n",
    "from matplotlib import pyplot as plt\n",
    "m = GEKKO(remote=False)"
   ]
  },
  {
   "cell_type": "code",
   "execution_count": 2,
   "metadata": {},
   "outputs": [
    {
     "name": "stdout",
     "output_type": "stream",
     "text": [
      "[0.5] [-0.25] [-0.5]\n"
     ]
    }
   ],
   "source": [
    "x = m.Var()            # define new variable, default initial =0\n",
    "y = m.Var()            # define new variable, default initial =0\n",
    "z = m.Var()\n",
    "m.Obj(x**2 + y**2 + z**2)\n",
    "m.Equations([3*x+2*y==1, x+2*y<=0, x+z==0])  # equations\n",
    "m.solve(disp=False)    # solve\n",
    "print(x.value, y.value, z.value) # print solution"
   ]
  },
  {
   "cell_type": "code",
   "execution_count": null,
   "metadata": {},
   "outputs": [],
   "source": []
  }
 ],
 "metadata": {
  "kernelspec": {
   "display_name": "Python 3",
   "language": "python",
   "name": "python3"
  },
  "language_info": {
   "codemirror_mode": {
    "name": "ipython",
    "version": 3
   },
   "file_extension": ".py",
   "mimetype": "text/x-python",
   "name": "python",
   "nbconvert_exporter": "python",
   "pygments_lexer": "ipython3",
   "version": "3.8.3"
  }
 },
 "nbformat": 4,
 "nbformat_minor": 4
}
