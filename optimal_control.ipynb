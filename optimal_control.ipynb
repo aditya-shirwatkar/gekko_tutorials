{
 "cells": [
  {
   "attachments": {},
   "cell_type": "markdown",
   "metadata": {},
   "source": [
    "## Optimal Control with Integral Objective\n",
    "\n",
    "### Original Form\n",
    "\n",
    "$ min_u \\frac{1}{2} \\int_0^2 x_1^2(t) dt \\\\\n",
    "\\mathrm{subject \\ to :} \\ \n",
    "\\frac{dx_1}{dt}=u \\\\ \n",
    "x_1(0) = 1 \\\\\n",
    "-1 \\le u(t) \\le 1$\n",
    "\n",
    "### Equivalent Form for GEKKO with new Variable $x_2$\n",
    "\n",
    "$\\min_u x_2 \\ \\left(t_f \\right) \\\\\n",
    "\\mathrm{subject \\ to :} \\\n",
    "\\frac{dx_1}{dt}=u \\\\\n",
    "\\frac{dx_2}{dt} = \\frac{1}{2} x_1^2(t) \\\\\n",
    "x_1(0) = 1 \\\\\n",
    "x_2(0) = 0 \\\\\n",
    "t_f = 2 \\\\\n",
    "-1 \\le u(t) \\le 1$"
   ]
  },
  {
   "cell_type": "code",
   "execution_count": 3,
   "metadata": {},
   "outputs": [
    {
     "data": {
      "image/png": "[encoded data removed]",
      "text/plain": [
       "<Figure size 432x288 with 1 Axes>"
      ]
     },
     "metadata": {
      "needs_background": "light"
     },
     "output_type": "display_data"
    }
   ],
   "source": [
    "from gekko import GEKKO\n",
    "import numpy as np\n",
    "import matplotlib.pyplot as plt  \n",
    "\n",
    "m = GEKKO(remote = False) # initialize gekko\n",
    "nt = 101\n",
    "m.time = np.linspace(0,2,nt)\n",
    "\n",
    "# Variables\n",
    "x1 = m.Var(value=1)\n",
    "x2 = m.Var(value=0)\n",
    "u = m.Var(value=0,lb=-1,ub=1)\n",
    "p = np.zeros(nt) # mark final time point\n",
    "p[-1] = 1.0\n",
    "final = m.Param(value=p) # did this cuz only want the last guy of objective function at tf\n",
    "\n",
    "# Equations\n",
    "m.Equation(x1.dt()==u)\n",
    "m.Equation(x2.dt()==0.5*x1**2)\n",
    "m.Obj(x2*final) # Objective function\n",
    "m.options.IMODE = 6 # optimal control mode\n",
    "m.solve(disp=False) # solve\n",
    "\n",
    "\n",
    "plt.figure(1) # plot results\n",
    "plt.plot(m.time,x1.value,'k-',label=r'$x_1$')\n",
    "plt.plot(m.time,x2.value,'b-',label=r'$x_2$')\n",
    "plt.plot(m.time,u.value,'r--',label=r'$u$')\n",
    "plt.legend(loc='best')\n",
    "plt.xlabel('Time')\n",
    "plt.ylabel('Value')\n",
    "plt.show()"
   ]
  },
  {
   "cell_type": "markdown",
   "metadata": {},
   "source": [
    "## Optimal Control with Economic Objective\n",
    "### Original Form\n",
    "\n",
    "$\\max_{u(t)} \\ \\int_0^{10} \\ \\left(E - \\ \\frac{c}{x}\\ \\right) u \\, U_{max} \\ dt \\\\\n",
    "\\mathrm{subject \\ to :} \\\n",
    "\\frac{dx}{dt}=r \\ ,\\\\ x(t) \\ \\left(1-\\ \\frac{x(t)}{k}\\ \\right)- \\ u U_{max} \\\\\n",
    "x(0) = 70 \\ ,\\\\\n",
    "0 \\ \\le u(t) \\ \\le 1 \\ , \\\\ \n",
    "E=1 \\ , \\\\ c=17.5 \\ , \\\\ r=0.71 \\ , \\\\\n",
    "k=80.5, \\\\ U_{max}=20$\n",
    "\n",
    "### Equivalent Form for GEKKO\n",
    "\n",
    "$\\ \\min_{u(t)} -J \\ \\left(t_f\\ \\right) \\\\\n",
    "\\ \\mathrm{subject \\ to :} \n",
    "\\ \\frac{dx}{dt}=r \\, \\\\ x(t) \\ \\left(1-\\ \\frac{x(t)}{k}\\ \\right)- u \\ U_{max}\\\\\n",
    "\\ \\frac{dJ}{dt} = \\ \\left(E-\\ \\frac{c}{x}\\ \\right) u \\ U_{max}\\\\\n",
    "x(0) = 70\\\\\n",
    "J(0) = 0\\\\\n",
    "0 \\ \\le u(t) \\ \\le 1\\\\\n",
    "t_f = 10, \\\\ E=1, \\\\ c=17.5 \\\\\n",
    "r=0.71, \\\\ k=80.5, \\\\ U_{max}=20$"
   ]
  },
  {
   "cell_type": "code",
   "execution_count": 2,
   "metadata": {},
   "outputs": [
    {
     "name": "stdout",
     "output_type": "stream",
     "text": [
      "Optimal Profit: 99.243626557\n"
     ]
    },
    {
     "data": {
      "image/png": "[encoded data removed]",
      "text/plain": [
       "<Figure size 432x288 with 2 Axes>"
      ]
     },
     "metadata": {
      "needs_background": "light"
     },
     "output_type": "display_data"
    }
   ],
   "source": [
    "from gekko import GEKKO\n",
    "import numpy as np\n",
    "import matplotlib.pyplot as plt  \n",
    "\n",
    "# create GEKKO model\n",
    "m = GEKKO(remote=False)\n",
    "# time points\n",
    "n=50\n",
    "m.time = np.linspace(0,10,n)\n",
    "# constants\n",
    "E,c,r,k,U_max = 1,17.5,0.71,80.5,20\n",
    "# fishing rate\n",
    "u = m.MV(value=1,lb=0,ub=1)\n",
    "u.STATUS = 1\n",
    "u.DCOST = 0 # No cost of movement, ie no penalty of updating the objective\n",
    "x = m.Var(value=70, lb=50,ub=100) # fish population\n",
    "# fish population balance\n",
    "m.Equation(x.dt() == r*x*(1-x/k)-u*U_max)\n",
    "J = m.Var(value=0) # objective (profit)\n",
    "Jf = m.FV() # final objective\n",
    "Jf.STATUS = 1\n",
    "m.Connection(Jf,J,pos2='end') # connect to optimise Jf\n",
    "m.Equation(J.dt() == (E-c/x)*u*U_max)\n",
    "m.Obj(-Jf) # maximize profit\n",
    "m.options.IMODE = 6  # optimal control\n",
    "m.options.NODES = 2  # collocation nodes\n",
    "m.options.SOLVER = 3 # solver (IPOPT)\n",
    "m.solve(disp=False) # Solve\n",
    "print('Optimal Profit: ' + str(Jf.value[0]))\n",
    "plt.figure(1) # plot results\n",
    "plt.subplot(2,1,1)\n",
    "plt.plot(m.time,J.value,'r--',label='profit')\n",
    "plt.plot(m.time,x.value,'b-',label='fish')\n",
    "plt.legend()\n",
    "plt.subplot(2,1,2)\n",
    "plt.plot(m.time,u.value,'k--',label='rate')\n",
    "plt.xlabel('Time (yr)')\n",
    "plt.legend()\n",
    "plt.show()"
   ]
  },
  {
   "cell_type": "markdown",
   "metadata": {},
   "source": [
    "## Optimal Control: Minimize Final Time\n",
    "\n",
    "### Original Form\n",
    "$\\ \\min_{u(t)} \\  t_f \\\\\n",
    "\\ \\mathrm{subject \\ to :} \\\n",
    "\\frac{dx_1}{dt}=u \\, \\\\\n",
    "\\frac{dx_2}{dt}=\\ \\cos\\ \\left(x_1(t)\\ \\right) \\ , \\\\\n",
    "\\frac{dx_3}{dt}=\\ \\sin\\ \\left(x_1(t)\\ \\right) \\, \\\\\n",
    "x(0) = \\ \\left[\\ \\pi/2,4,0\\ \\right] \\ , \\\\ \n",
    "x_2\\ \\left(t_f\\ \\right)=0 \\ , \\\\\n",
    "x_3\\ \\left(t_f\\ \\right)=0 \\ , \\\\\n",
    "-2 \\ \\le u(t) \\ \\le 2 \\ , \\\\ $\n",
    "\n",
    "### Equivalent Form for GEKKO\n",
    "\n",
    "$\\ \\min_{u(t), t_f} \\ t_f \\ , \\\\\n",
    "\\mathrm{subject \\ to} \\ \n",
    "\\frac{dx_1}{dt}=t_f \\, \\\\\n",
    "\\frac{dx_2}{dt}=t_f \\ \\cos \\ \\left(x_1(t)\\ \\right) \\ , \\\\\n",
    "\\ \\frac{dx_3}{dt}=t_f \\ \\ \\sin\\ \\left(x_1(t)\\ \\right), \\\\\n",
    "x(0) = \\ \\left[\\ \\pi/2,4,0\\ \\right] \\ , \\\\\n",
    "x_2\\ \\left(t_f\\ \\right)=0 \\ , \\\\\n",
    "x_3\\ \\left(t_f\\ \\right)=0 \\ , \\\\\n",
    "-2 \\ \\le u(t) \\ \\le 2$"
   ]
  },
  {
   "cell_type": "code",
   "execution_count": 1,
   "metadata": {},
   "outputs": [
    {
     "ename": "Exception",
     "evalue": "@error: Solution Not Found\n",
     "output_type": "error",
     "traceback": [
      "\u001b[0;31m---------------------------------------------------------------------------\u001b[0m",
      "\u001b[0;31mException\u001b[0m                                 Traceback (most recent call last)",
      "\u001b[0;32m<ipython-input-1-2ffdc43b05f6>\u001b[0m in \u001b[0;36m<module>\u001b[0;34m\u001b[0m\n\u001b[1;32m     27\u001b[0m \u001b[0mm\u001b[0m\u001b[0;34m.\u001b[0m\u001b[0moptions\u001b[0m\u001b[0;34m.\u001b[0m\u001b[0mIMODE\u001b[0m \u001b[0;34m=\u001b[0m \u001b[0;36m6\u001b[0m\u001b[0;34m\u001b[0m\u001b[0;34m\u001b[0m\u001b[0m\n\u001b[1;32m     28\u001b[0m \u001b[0;31m# m.options.SOLVER = 2\u001b[0m\u001b[0;34m\u001b[0m\u001b[0;34m\u001b[0m\u001b[0;34m\u001b[0m\u001b[0m\n\u001b[0;32m---> 29\u001b[0;31m \u001b[0mm\u001b[0m\u001b[0;34m.\u001b[0m\u001b[0msolve\u001b[0m\u001b[0;34m(\u001b[0m\u001b[0mdisp\u001b[0m\u001b[0;34m=\u001b[0m\u001b[0;32mFalse\u001b[0m\u001b[0;34m)\u001b[0m\u001b[0;34m\u001b[0m\u001b[0;34m\u001b[0m\u001b[0m\n\u001b[0m\u001b[1;32m     30\u001b[0m \u001b[0mprint\u001b[0m\u001b[0;34m(\u001b[0m\u001b[0;34m'Final Time: '\u001b[0m \u001b[0;34m+\u001b[0m \u001b[0mstr\u001b[0m\u001b[0;34m(\u001b[0m\u001b[0mtf\u001b[0m\u001b[0;34m.\u001b[0m\u001b[0mvalue\u001b[0m\u001b[0;34m[\u001b[0m\u001b[0;36m0\u001b[0m\u001b[0;34m]\u001b[0m\u001b[0;34m)\u001b[0m\u001b[0;34m)\u001b[0m\u001b[0;34m\u001b[0m\u001b[0;34m\u001b[0m\u001b[0m\n\u001b[1;32m     31\u001b[0m \u001b[0mtm\u001b[0m \u001b[0;34m=\u001b[0m \u001b[0mnp\u001b[0m\u001b[0;34m.\u001b[0m\u001b[0mlinspace\u001b[0m\u001b[0;34m(\u001b[0m\u001b[0;36m0\u001b[0m\u001b[0;34m,\u001b[0m\u001b[0mtf\u001b[0m\u001b[0;34m.\u001b[0m\u001b[0mvalue\u001b[0m\u001b[0;34m[\u001b[0m\u001b[0;36m0\u001b[0m\u001b[0;34m]\u001b[0m\u001b[0;34m,\u001b[0m\u001b[0mnt\u001b[0m\u001b[0;34m)\u001b[0m\u001b[0;34m\u001b[0m\u001b[0;34m\u001b[0m\u001b[0m\n",
      "\u001b[0;32m~/anaconda3/envs/aditya/lib/python3.8/site-packages/gekko/gekko.py\u001b[0m in \u001b[0;36msolve\u001b[0;34m(self, disp, debug, GUI, **kwargs)\u001b[0m\n\u001b[1;32m   2057\u001b[0m                 \u001b[0mprint\u001b[0m\u001b[0;34m(\u001b[0m\u001b[0;34m\"Error:\"\u001b[0m\u001b[0;34m,\u001b[0m \u001b[0merrs\u001b[0m\u001b[0;34m)\u001b[0m\u001b[0;34m\u001b[0m\u001b[0;34m\u001b[0m\u001b[0m\n\u001b[1;32m   2058\u001b[0m             \u001b[0;32mif\u001b[0m \u001b[0;34m(\u001b[0m\u001b[0mdebug\u001b[0m \u001b[0;34m>=\u001b[0m \u001b[0;36m1\u001b[0m\u001b[0;34m)\u001b[0m \u001b[0;32mand\u001b[0m \u001b[0mrecord_error\u001b[0m\u001b[0;34m:\u001b[0m\u001b[0;34m\u001b[0m\u001b[0;34m\u001b[0m\u001b[0m\n\u001b[0;32m-> 2059\u001b[0;31m                 \u001b[0;32mraise\u001b[0m \u001b[0mException\u001b[0m\u001b[0;34m(\u001b[0m\u001b[0mapm_error\u001b[0m\u001b[0;34m)\u001b[0m\u001b[0;34m\u001b[0m\u001b[0;34m\u001b[0m\u001b[0m\n\u001b[0m\u001b[1;32m   2060\u001b[0m \u001b[0;34m\u001b[0m\u001b[0m\n\u001b[1;32m   2061\u001b[0m         \u001b[0;32melse\u001b[0m\u001b[0;34m:\u001b[0m \u001b[0;31m#solve on APM server\u001b[0m\u001b[0;34m\u001b[0m\u001b[0;34m\u001b[0m\u001b[0m\n",
      "\u001b[0;31mException\u001b[0m: @error: Solution Not Found\n"
     ]
    }
   ],
   "source": [
    "from gekko import GEKKO\n",
    "import numpy as np\n",
    "import matplotlib.pyplot as plt  \n",
    "\n",
    "m = GEKKO(remote=False) # initialize GEKKO\n",
    "nt = 50\n",
    "m.time = np.linspace(0,1,nt)\n",
    "# Variables\n",
    "x1 = m.Var(value=np.pi/2.0)\n",
    "x2 = m.Var(value=4.0)\n",
    "x3 = m.Var(value=0.0)\n",
    "p = np.zeros(nt) # final time = 1\n",
    "p[-1] = 1.0\n",
    "final = m.Param(value=p)\n",
    "# optimize final time\n",
    "tf = m.FV(value=1.0,lb=0.1,ub=100.0)\n",
    "tf.STATUS = 1\n",
    "# control changes every time period\n",
    "u = m.MV(value=0,lb=-2,ub=2)\n",
    "u.STATUS = 1\n",
    "m.Equation(x1.dt()==u*tf)\n",
    "m.Equation(x2.dt()==m.cos(x1)*tf)\n",
    "m.Equation(x3.dt()==m.sin(x1)*tf)\n",
    "m.Equation(x2*final<=0)\n",
    "m.Equation(x3*final<=0)\n",
    "m.Obj(tf)\n",
    "m.options.IMODE = 6\n",
    "# m.options.SOLVER = 2\n",
    "m.solve(disp=False)\n",
    "print('Final Time: ' + str(tf.value[0]))\n",
    "tm = np.linspace(0,tf.value[0],nt)\n",
    "plt.figure(1)\n",
    "plt.plot(tm,x1.value,'k-',label=r'$x_1$')\n",
    "plt.plot(tm,x2.value,'b-',label=r'$x_2$')\n",
    "plt.plot(tm,x3.value,'g--',label=r'$x_3$')\n",
    "plt.plot(tm,u.value,'r--',label=r'$u$')\n",
    "plt.legend(loc='best')\n",
    "plt.xlabel('Time')\n",
    "plt.show()"
   ]
  },
  {
   "cell_type": "code",
   "execution_count": null,
   "metadata": {},
   "outputs": [],
   "source": []
  }
 ],
 "metadata": {
  "kernelspec": {
   "display_name": "Python 3",
   "language": "python",
   "name": "python3"
  },
  "language_info": {
   "codemirror_mode": {
    "name": "ipython",
    "version": 3
   },
   "file_extension": ".py",
   "mimetype": "text/x-python",
   "name": "python",
   "nbconvert_exporter": "python",
   "pygments_lexer": "ipython3",
   "version": "3.8.3"
  }
 },
 "nbformat": 4,
 "nbformat_minor": 4
}
