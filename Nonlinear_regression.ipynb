{
 "cells": [
  {
   "cell_type": "code",
   "execution_count": 1,
   "metadata": {},
   "outputs": [],
   "source": [
    "from gekko import GEKKO\n",
    "import numpy as np\n",
    "import matplotlib.pyplot as plt  \n",
    "\n",
    "# measurements\n",
    "xm = np.array([0,1,2,3,4,5])\n",
    "ym = np.array([0.1,0.2,0.3,0.5,0.8,2.0])"
   ]
  },
  {
   "cell_type": "code",
   "execution_count": 2,
   "metadata": {},
   "outputs": [],
   "source": [
    "# GEKKO model\n",
    "m = GEKKO(remote=False)\n",
    "# parameters\n",
    "x = m.Param(value=xm) # correlation we want to fit it to\n",
    "a = m.FV(value=0.1) # same quantity for all data points, but changes to fit the data\n",
    "a.STATUS=1 # return value to regressor\n",
    "b = m.FV(value=0.1) # same quantity for all data points, but changes to fit the data\n",
    "b.STATUS=1 # return value to regressor\n",
    "\n",
    "# variables\n",
    "y = m.CV(value=ym)\n",
    "y.FSTATUS=1 # update according to measurement\n",
    "\n",
    "# regression equation\n",
    "m.Equation(y==0.1*m.exp(a*x) + b)\n",
    "\n",
    "# regression mode\n",
    "m.options.IMODE = 2\n",
    "m.options.E\n",
    "# optimize\n",
    "m.solve(disp=False)"
   ]
  },
  {
   "cell_type": "code",
   "execution_count": 3,
   "metadata": {},
   "outputs": [
    {
     "name": "stdout",
     "output_type": "stream",
     "text": [
      "Optimized, a = 0.60237974436 and b = -0.033095664637\n"
     ]
    },
    {
     "data": {
      "image/png": "[encoded data removed]",
      "text/plain": [
       "<Figure size 432x288 with 1 Axes>"
      ]
     },
     "metadata": {
      "needs_background": "light"
     },
     "output_type": "display_data"
    }
   ],
   "source": [
    "# print parameters\n",
    "print('Optimized, a = ' + str(a.value[0]) + ' and b = ' + str(b.value[0]))\n",
    "\n",
    "plt.plot(xm,ym,'bo', label='Data')\n",
    "plt.plot(x.value, y.value,'r-', label='Regression')\n",
    "plt.show()"
   ]
  },
  {
   "cell_type": "code",
   "execution_count": null,
   "metadata": {},
   "outputs": [],
   "source": []
  }
 ],
 "metadata": {
  "kernelspec": {
   "display_name": "Python 3",
   "language": "python",
   "name": "python3"
  },
  "language_info": {
   "codemirror_mode": {
    "name": "ipython",
    "version": 3
   },
   "file_extension": ".py",
   "mimetype": "text/x-python",
   "name": "python",
   "nbconvert_exporter": "python",
   "pygments_lexer": "ipython3",
   "version": "3.8.3"
  }
 },
 "nbformat": 4,
 "nbformat_minor": 4
}
