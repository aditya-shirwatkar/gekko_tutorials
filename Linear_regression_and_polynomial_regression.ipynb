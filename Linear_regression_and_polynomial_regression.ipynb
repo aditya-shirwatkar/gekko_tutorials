{
 "cells": [
  {
   "cell_type": "code",
   "execution_count": 1,
   "metadata": {},
   "outputs": [],
   "source": [
    "from gekko import GEKKO\n",
    "import numpy as np\n",
    "import matplotlib.pyplot as plt  \n",
    "\n",
    "xm = np.array([0,1,2,3,4])\n",
    "ym = np.array([0.1,0.2,0.3,0.5,0.8])"
   ]
  },
  {
   "cell_type": "code",
   "execution_count": 2,
   "metadata": {},
   "outputs": [
    {
     "data": {
      "text/plain": [
       "<gekko.gekko.EquationObj at 0x7f9ecc864910>"
      ]
     },
     "execution_count": 2,
     "metadata": {},
     "output_type": "execute_result"
    }
   ],
   "source": [
    "#### Solution\n",
    "m = GEKKO(remote=False)\n",
    "m.options.IMODE=2\n",
    "# coefficients\n",
    "c = [m.FV(value=0) for i in range(4)]\n",
    "x = m.Param(value=xm)\n",
    "y = m.CV(value=ym)\n",
    "y.FSTATUS = 1 # feedback status\n",
    "# polynomial model\n",
    "m.Equation(y==c[0]+c[1]*x+c[2]*x**2+c[3]*x**3)"
   ]
  },
  {
   "cell_type": "code",
   "execution_count": 3,
   "metadata": {},
   "outputs": [],
   "source": [
    "# linear regression\n",
    "c[0].STATUS=1 # use the error to minimize\n",
    "c[1].STATUS=1 # same\n",
    "m.options.EV_TYPE = 2\n",
    "m.solve(disp=False)\n",
    "p1 = [c[1].value[0],c[0].value[0]]"
   ]
  },
  {
   "cell_type": "code",
   "execution_count": 4,
   "metadata": {},
   "outputs": [],
   "source": [
    "# quadratic\n",
    "c[2].STATUS=1\n",
    "m.options.EV_TYPE = 1\n",
    "m.solve(disp=False)\n",
    "p2 = [c[2].value[0],c[1].value[0],c[0].value[0]]"
   ]
  },
  {
   "cell_type": "code",
   "execution_count": 5,
   "metadata": {},
   "outputs": [],
   "source": [
    "# cubic\n",
    "c[3].STATUS=1\n",
    "m.solve(disp=False)\n",
    "p3 = [c[3].value[0],c[2].value[0],c[1].value[0],c[0].value[0]]"
   ]
  },
  {
   "cell_type": "code",
   "execution_count": 6,
   "metadata": {},
   "outputs": [
    {
     "data": {
      "image/png": "[encoded data removed]",
      "text/plain": [
       "<Figure size 432x288 with 1 Axes>"
      ]
     },
     "metadata": {
      "needs_background": "light"
     },
     "output_type": "display_data"
    }
   ],
   "source": [
    "# plot fit\n",
    "plt.plot(xm,ym,'ko',markersize=10)\n",
    "xp = np.linspace(0,5,100)\n",
    "plt.plot(xp,np.polyval(p1,xp),'b--',linewidth=2)\n",
    "plt.plot(xp,np.polyval(p2,xp),'r--',linewidth=3)\n",
    "plt.plot(xp,np.polyval(p3,xp),'g:',linewidth=2)\n",
    "plt.legend(['Data','Linear','Quadratic','Cubic'],loc='best')\n",
    "plt.xlabel('x')\n",
    "plt.ylabel('y')\n",
    "plt.show()"
   ]
  },
  {
   "cell_type": "code",
   "execution_count": 7,
   "metadata": {},
   "outputs": [
    {
     "name": "stdout",
     "output_type": "stream",
     "text": [
      "[0.1005, 0.1005, 0.1005, 0.1005, 0.1005]\n",
      "[0.107, 0.107, 0.107, 0.107, 0.107]\n",
      "[-0.016333333333, -0.016333333333, -0.016333333333, -0.016333333333, -0.016333333333]\n",
      "[0.0083333333333, 0.0083333333333, 0.0083333333333, 0.0083333333333, 0.0083333333333]\n"
     ]
    }
   ],
   "source": [
    "print(c[0].value)\n",
    "print(c[1].value)\n",
    "print(c[2].value)\n",
    "print(c[3].value)"
   ]
  },
  {
   "cell_type": "code",
   "execution_count": null,
   "metadata": {},
   "outputs": [],
   "source": []
  }
 ],
 "metadata": {
  "kernelspec": {
   "display_name": "Python 3",
   "language": "python",
   "name": "python3"
  },
  "language_info": {
   "codemirror_mode": {
    "name": "ipython",
    "version": 3
   },
   "file_extension": ".py",
   "mimetype": "text/x-python",
   "name": "python",
   "nbconvert_exporter": "python",
   "pygments_lexer": "ipython3",
   "version": "3.8.3"
  }
 },
 "nbformat": 4,
 "nbformat_minor": 4
}
