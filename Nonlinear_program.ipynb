{
 "cells": [
  {
   "cell_type": "code",
   "execution_count": 1,
   "metadata": {},
   "outputs": [],
   "source": [
    "from gekko import GEKKO    \n",
    "import numpy as np\n",
    "\n",
    "#Initialize Model\n",
    "m = GEKKO(remote=False)\n",
    "#help(m)"
   ]
  },
  {
   "cell_type": "code",
   "execution_count": 2,
   "metadata": {},
   "outputs": [],
   "source": [
    "#define parameter\n",
    "eq = m.Param(value=40)\n",
    "\n",
    "#initialize variables\n",
    "x1,x2,x3,x4 = [m.Var() for i in range(4)]\n",
    "\n",
    "#initial values\n",
    "x1.value = 1\n",
    "x2.value = 5\n",
    "x3.value = 5\n",
    "x4.value = 1\n",
    "\n",
    "# lower bounds\n",
    "x1.lower = 1\n",
    "x2.lower = 1\n",
    "x3.lower = 1\n",
    "x4.lower = 1\n",
    "\n",
    "# upper bounds\n",
    "x1.upper = 5\n",
    "x2.upper = 5\n",
    "x3.upper = 5\n",
    "x4.upper = 5\n",
    "\n",
    "# or follow below format\n",
    "# x1 = m.Var(value=1, lb=1, ub=5)\n",
    "\n",
    "#Equations / Constraints\n",
    "m.Equation(x1*x2*x3*x4>=25)\n",
    "m.Equation(x1**2+x2**2+x3**2+x4**2==eq)\n",
    "\n",
    "#Objective\n",
    "m.Obj(x1*x4*(x1+x2+x3)+x3)\n",
    "\n",
    "#Set global options\n",
    "m.options.IMODE = 3 #steady state optimization\n",
    "\n",
    "#Solve simulation\n",
    "m.solve(disp=False)"
   ]
  },
  {
   "cell_type": "code",
   "execution_count": 3,
   "metadata": {},
   "outputs": [
    {
     "name": "stdout",
     "output_type": "stream",
     "text": [
      "\n",
      "Results\n",
      "x1: [1.0]\n",
      "x2: [4.742999637]\n",
      "x3: [3.8211499845]\n",
      "x4: [1.3794082931]\n"
     ]
    }
   ],
   "source": [
    "#Results\n",
    "print('')\n",
    "print('Results')\n",
    "print('x1: ' + str(x1.value))\n",
    "print('x2: ' + str(x2.value))\n",
    "print('x3: ' + str(x3.value))\n",
    "print('x4: ' + str(x4.value))"
   ]
  },
  {
   "cell_type": "code",
   "execution_count": null,
   "metadata": {},
   "outputs": [],
   "source": []
  }
 ],
 "metadata": {
  "kernelspec": {
   "display_name": "Python 3",
   "language": "python",
   "name": "python3"
  },
  "language_info": {
   "codemirror_mode": {
    "name": "ipython",
    "version": 3
   },
   "file_extension": ".py",
   "mimetype": "text/x-python",
   "name": "python",
   "nbconvert_exporter": "python",
   "pygments_lexer": "ipython3",
   "version": "3.8.3"
  }
 },
 "nbformat": 4,
 "nbformat_minor": 4
}
